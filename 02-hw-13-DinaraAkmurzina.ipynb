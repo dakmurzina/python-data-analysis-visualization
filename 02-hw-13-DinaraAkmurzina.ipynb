{
 "cells": [
  {
   "cell_type": "markdown",
   "metadata": {},
   "source": [
    "### pandas: Series vs DataFrame [Домашнее задание]\n",
    "> **Вы должны импортировать все необходимые пакеты самостоятельно.**\n",
    "\n",
    "> **Пишите код только там, где это показано для записи. Не удаляйте комментарии!**\n",
    " "
   ]
  },
  {
   "cell_type": "markdown",
   "metadata": {},
   "source": [
    "1. Пожалуйста, напишите функцию ```load_data(filename)```, которая будет загружать данные из csv-файла в ```DataFrame```. Файл ```Social_Network_Ads.csv``` предоставлен вместе с этим jupyter notebook.\n",
    "\n",
    "\n",
    "**Примечание:**\n",
    "\n",
    "* В случае, если имя файла задано неверно, функция ```load_data``` должна вывести следующее сообщение об ошибке:\n",
    "\n",
    "```{имя файла} does not exist```"
   ]
  },
  {
   "cell_type": "code",
   "execution_count": 1,
   "metadata": {},
   "outputs": [],
   "source": [
    "#Начало вашего кода\n",
    "import pandas as pd\n",
    "def load_data(filename):\n",
    "    try:\n",
    "        with open(filename) as file:\n",
    "            data = pd.read_csv(file)\n",
    "            header = list(data.columns)\n",
    "        return header, data\n",
    "    except:\n",
    "        print(f'{filename} does not exist')\n",
    "        return None, None\n",
    "#Конец вашего кода"
   ]
  },
  {
   "cell_type": "code",
   "execution_count": 2,
   "metadata": {},
   "outputs": [
    {
     "name": "stdout",
     "output_type": "stream",
     "text": [
      "./SocialNetworkAds.csv does not exist\n"
     ]
    }
   ],
   "source": [
    "filename = \"./SocialNetworkAds.csv\"\n",
    "header, data = load_data(filename=filename)"
   ]
  },
  {
   "cell_type": "markdown",
   "metadata": {},
   "source": [
    "### Ожидаемый результат:\n",
    "\n",
    "```\n",
    "./SocialNetworkAds.csv does not exist\n",
    "```"
   ]
  },
  {
   "cell_type": "code",
   "execution_count": 3,
   "metadata": {},
   "outputs": [
    {
     "name": "stdout",
     "output_type": "stream",
     "text": [
      "None\n",
      "None\n"
     ]
    }
   ],
   "source": [
    "print(header)\n",
    "print(data)"
   ]
  },
  {
   "cell_type": "markdown",
   "metadata": {},
   "source": [
    "### Ожидаемый результат:\n",
    "\n",
    "```\n",
    "None\n",
    "None\n",
    "```"
   ]
  },
  {
   "cell_type": "code",
   "execution_count": 4,
   "metadata": {},
   "outputs": [],
   "source": [
    "filename = \"./Social_Network_Ads.csv\"\n",
    "header, data = load_data(filename=filename)"
   ]
  },
  {
   "cell_type": "code",
   "execution_count": 5,
   "metadata": {},
   "outputs": [
    {
     "name": "stdout",
     "output_type": "stream",
     "text": [
      "['User ID', 'Gender', 'Age', 'EstimatedSalary', 'Purchased']\n"
     ]
    }
   ],
   "source": [
    "print(header)"
   ]
  },
  {
   "cell_type": "markdown",
   "metadata": {},
   "source": [
    "### Ожидаемый результат:\n",
    "\n",
    "```\n",
    "['User ID', 'Gender', 'Age', 'EstimatedSalary', 'Purchased']\n",
    "```"
   ]
  },
  {
   "cell_type": "markdown",
   "metadata": {},
   "source": [
    "**Распечатайте первые и последние 5 строк pandas.DataFrame:**"
   ]
  },
  {
   "cell_type": "code",
   "execution_count": 10,
   "metadata": {},
   "outputs": [
    {
     "name": "stdout",
     "output_type": "stream",
     "text": [
      "    User ID  Gender  Age  EstimatedSalary  Purchased\n",
      "0  15624510    Male   19            19000          0\n",
      "1  15810944    Male   35            20000          0\n",
      "2  15668575  Female   26            43000          0\n",
      "3  15603246  Female   27            57000          0\n",
      "4  15804002    Male   19            76000          0\n",
      "      User ID  Gender  Age  EstimatedSalary  Purchased\n",
      "395  15691863  Female   46            41000          1\n",
      "396  15706071    Male   51            23000          1\n",
      "397  15654296  Female   50            20000          1\n",
      "398  15755018    Male   36            33000          0\n",
      "399  15594041  Female   49            36000          1\n"
     ]
    }
   ],
   "source": [
    "#Начало вашего кода\n",
    "print(data.iloc[:5])\n",
    "print(data.iloc[-5:])\n",
    "#Конец вашего кода"
   ]
  },
  {
   "cell_type": "markdown",
   "metadata": {},
   "source": [
    "### Ожидаемый результат:\n",
    "\n",
    "```\n",
    "User ID  Gender  Age  EstimatedSalary  Purchased\n",
    "0  15624510    Male   19            19000          0\n",
    "1  15810944    Male   35            20000          0\n",
    "2  15668575  Female   26            43000          0\n",
    "3  15603246  Female   27            57000          0\n",
    "4  15804002    Male   19            76000          0\n",
    "      User ID  Gender  Age  EstimatedSalary  Purchased\n",
    "395  15691863  Female   46            41000          1\n",
    "396  15706071    Male   51            23000          1\n",
    "397  15654296  Female   50            20000          1\n",
    "398  15755018    Male   36            33000          0\n",
    "399  15594041  Female   49            36000          1\n",
    "```"
   ]
  },
  {
   "cell_type": "markdown",
   "metadata": {},
   "source": [
    "2. Пожалуйста, реализуйте функцию ```frequency(data,columns)```, которая делает то же самое, что и ```pandas.Series.value_counts()```, за исключением того, что не использует сам этот метод, для всех существующих имен столбцов, указанных во входном аргументе. Входные аргументы:\n",
    "    * ```data``` должен быть типа pandas.DataFrame\n",
    "    * ```columns``` должен быть списком список с именами целевых столбцов\n",
    "\n",
    "Кроме того, \n",
    "* если ```data``` не предоставлены, функция должна вернуть сообщение об ошибке.\n",
    "* если ```columns``` не предоставлен, функция выполняет операцию для всех столбцов ```data```.\n"
   ]
  },
  {
   "cell_type": "code",
   "execution_count": 57,
   "metadata": {},
   "outputs": [],
   "source": [
    "#n Начало вашего кода\n",
    "def frequency(data=None, columns=None):\n",
    "    if data is not None and columns!=None:\n",
    "        my_dict = {}\n",
    "        for column in columns:\n",
    "            sr = data[column]\n",
    "            counter = sr.value_counts()\n",
    "            my_dict[column]=counter\n",
    "        return my_dict   \n",
    "    elif data is not None and columns==None:\n",
    "        columns = data.columns\n",
    "        my_dict = {}\n",
    "        for column in columns:\n",
    "            sr = data[column]\n",
    "            counter = sr.value_counts()\n",
    "            my_dict[column]=counter\n",
    "        return my_dict\n",
    "    else:\n",
    "        return \"Error: input arguments are not provided properly frequency(data, columns)\"\n",
    "        \n",
    "#Конец вашего кода"
   ]
  },
  {
   "cell_type": "code",
   "execution_count": 58,
   "metadata": {},
   "outputs": [
    {
     "name": "stdout",
     "output_type": "stream",
     "text": [
      "Error: input arguments are not provided properly frequency(data, columns)\n"
     ]
    }
   ],
   "source": [
    "res=frequency(columns=[\"Gender\",\"EstimatedSalary\"])\n",
    "print(res)"
   ]
  },
  {
   "cell_type": "markdown",
   "metadata": {},
   "source": [
    "### Ожидаемый результат:\n",
    "\n",
    "```\n",
    "Error: input arguments are not provided properly frequency(data, columns)\n",
    "```"
   ]
  },
  {
   "cell_type": "code",
   "execution_count": 60,
   "metadata": {},
   "outputs": [
    {
     "name": "stdout",
     "output_type": "stream",
     "text": [
      "Value counts for Gender column:\n",
      "Female    204\n",
      "Male      196\n",
      "Name: Gender, dtype: int64\n",
      "-----------\n",
      "Value counts for EstimatedSalary column:\n",
      "72000     12\n",
      "80000     11\n",
      "79000     10\n",
      "75000      9\n",
      "71000      9\n",
      "          ..\n",
      "123000     1\n",
      "37000      1\n",
      "115000     1\n",
      "148000     1\n",
      "139000     1\n",
      "Name: EstimatedSalary, Length: 117, dtype: int64\n",
      "-----------\n"
     ]
    }
   ],
   "source": [
    "res=frequency(data=data,columns=[\"Gender\",\"EstimatedSalary\"])\n",
    "for key, sr in res.items():\n",
    "    print(f\"Value counts for {key} column:\")\n",
    "    print(sr)\n",
    "    print(\"-----------\")"
   ]
  },
  {
   "cell_type": "markdown",
   "metadata": {},
   "source": [
    "### Ожидаемый результат:\n",
    "\n",
    "```\n",
    "Value counts for Gender column:\n",
    "Male      196\n",
    "Female    204\n",
    "dtype: int64\n",
    "-----------\n",
    "Value counts for EstimatedSalary column:\n",
    "19000     2\n",
    "20000     5\n",
    "43000     7\n",
    "57000     6\n",
    "76000     3\n",
    "         ..\n",
    "99000     1\n",
    "129000    1\n",
    "46000     1\n",
    "64000     1\n",
    "139000    1\n",
    "Length: 117, dtype: int64\n",
    "-----------\n",
    "```"
   ]
  },
  {
   "cell_type": "code",
   "execution_count": 61,
   "metadata": {},
   "outputs": [
    {
     "name": "stdout",
     "output_type": "stream",
     "text": [
      "Value counts for User ID column:\n",
      "15624510    1\n",
      "15767681    1\n",
      "15589449    1\n",
      "15791373    1\n",
      "15688172    1\n",
      "           ..\n",
      "15675185    1\n",
      "15792102    1\n",
      "15722758    1\n",
      "15745232    1\n",
      "15594041    1\n",
      "Name: User ID, Length: 400, dtype: int64\n",
      "-----------\n",
      "Value counts for Gender column:\n",
      "Female    204\n",
      "Male      196\n",
      "Name: Gender, dtype: int64\n",
      "-----------\n",
      "Value counts for Age column:\n",
      "35    32\n",
      "37    20\n",
      "26    16\n",
      "41    16\n",
      "42    16\n",
      "39    15\n",
      "40    15\n",
      "48    14\n",
      "47    14\n",
      "27    13\n",
      "38    13\n",
      "28    12\n",
      "36    12\n",
      "46    12\n",
      "31    11\n",
      "30    11\n",
      "49    10\n",
      "29    10\n",
      "33     9\n",
      "32     9\n",
      "24     9\n",
      "59     7\n",
      "19     7\n",
      "45     7\n",
      "20     7\n",
      "60     7\n",
      "34     6\n",
      "23     6\n",
      "52     6\n",
      "25     6\n",
      "58     6\n",
      "53     5\n",
      "57     5\n",
      "22     5\n",
      "18     5\n",
      "21     4\n",
      "50     4\n",
      "54     4\n",
      "55     3\n",
      "56     3\n",
      "51     3\n",
      "43     3\n",
      "44     2\n",
      "Name: Age, dtype: int64\n",
      "-----------\n",
      "Value counts for EstimatedSalary column:\n",
      "72000     12\n",
      "80000     11\n",
      "79000     10\n",
      "75000      9\n",
      "71000      9\n",
      "          ..\n",
      "123000     1\n",
      "37000      1\n",
      "115000     1\n",
      "148000     1\n",
      "139000     1\n",
      "Name: EstimatedSalary, Length: 117, dtype: int64\n",
      "-----------\n",
      "Value counts for Purchased column:\n",
      "0    257\n",
      "1    143\n",
      "Name: Purchased, dtype: int64\n",
      "-----------\n"
     ]
    }
   ],
   "source": [
    "res=frequency(data=data)\n",
    "for key, sr in res.items():\n",
    "    print(f\"Value counts for {key} column:\")\n",
    "    print(sr)\n",
    "    print(\"-----------\")"
   ]
  },
  {
   "cell_type": "markdown",
   "metadata": {},
   "source": [
    "### Ожидаемый результат:\n",
    "\n",
    "```\n",
    "Value counts for User ID column:\n",
    "15624510    1\n",
    "15810944    1\n",
    "15668575    1\n",
    "15603246    1\n",
    "15804002    1\n",
    "           ..\n",
    "15691863    1\n",
    "15706071    1\n",
    "15654296    1\n",
    "15755018    1\n",
    "15594041    1\n",
    "Length: 400, dtype: int64\n",
    "-----------\n",
    "Value counts for Gender column:\n",
    "Male      196\n",
    "Female    204\n",
    "dtype: int64\n",
    "-----------\n",
    "Value counts for Age column:\n",
    "19     7\n",
    "35    32\n",
    "26    16\n",
    "27    13\n",
    "32     9\n",
    "25     6\n",
    "20     7\n",
    "18     5\n",
    "29    10\n",
    "47    14\n",
    "45     7\n",
    "46    12\n",
    "48    14\n",
    "49    10\n",
    "31    11\n",
    "21     4\n",
    "28    12\n",
    "33     9\n",
    "30    11\n",
    "23     6\n",
    "24     9\n",
    "22     5\n",
    "59     7\n",
    "34     6\n",
    "39    15\n",
    "38    13\n",
    "37    20\n",
    "42    16\n",
    "40    15\n",
    "36    12\n",
    "41    16\n",
    "58     6\n",
    "55     3\n",
    "52     6\n",
    "60     7\n",
    "56     3\n",
    "53     5\n",
    "50     4\n",
    "51     3\n",
    "57     5\n",
    "44     2\n",
    "43     3\n",
    "54     4\n",
    "dtype: int64\n",
    "-----------\n",
    "Value counts for EstimatedSalary column:\n",
    "19000     2\n",
    "20000     5\n",
    "43000     7\n",
    "57000     6\n",
    "76000     3\n",
    "         ..\n",
    "99000     1\n",
    "129000    1\n",
    "46000     1\n",
    "64000     1\n",
    "139000    1\n",
    "Length: 117, dtype: int64\n",
    "-----------\n",
    "Value counts for Purchased column:\n",
    "0    257\n",
    "1    143\n",
    "dtype: int64\n",
    "-----------\n",
    "```"
   ]
  },
  {
   "cell_type": "markdown",
   "metadata": {},
   "source": [
    "3. Пожалуйста, реализуйте функцию ```frequency_easy(data,columns)```, которая делает то же самое, что ```frequency(data,columns)```, за исключением того, что вы можете использовать ```pandas.Series.value_counts()```, для всех существующих имен столбцов, указанных во входном аргументе. Входные аргументы: \n",
    "    * data должен быть типа pandas.DataFrame\n",
    "    * columns должен быть списком список с именами целевых столбцов\n",
    "\n",
    "Кроме того,\n",
    "* если data не предоставлены, функция должна вернуть сообщение об ошибке.\n",
    "* если columns не предоставлен, функция выполняет операцию для всех столбцов data."
   ]
  },
  {
   "cell_type": "code",
   "execution_count": 69,
   "metadata": {},
   "outputs": [],
   "source": [
    "#Начало вашего кода\n",
    "def frequency_easy(data=None, columns=None):\n",
    "    if data is not None and columns!=None:\n",
    "        my_dict = {}\n",
    "        for column in columns:\n",
    "            counter = data[column].value_counts()\n",
    "            my_dict[column]=counter\n",
    "        return my_dict   \n",
    "    elif data is not None and columns==None:\n",
    "        columns = data.columns\n",
    "        my_dict = {}\n",
    "        for column in columns:\n",
    "            counter = data[column].value_counts()\n",
    "            my_dict[column]=counter\n",
    "        return my_dict\n",
    "    else:\n",
    "        return \"Error: input arguments are not provided properly frequency(data, columns)\"\n",
    "#Конец вашего кода"
   ]
  },
  {
   "cell_type": "code",
   "execution_count": 70,
   "metadata": {},
   "outputs": [
    {
     "name": "stdout",
     "output_type": "stream",
     "text": [
      "Error: input arguments are not provided properly frequency(data, columns)\n"
     ]
    }
   ],
   "source": [
    "res=frequency_easy(columns=[\"Gender\",\"EstimatedSalary\"])\n",
    "print(res)"
   ]
  },
  {
   "cell_type": "markdown",
   "metadata": {},
   "source": [
    "### Ожидаемый результат:\n",
    "\n",
    "```\n",
    "Error: input arguments are not provided properly frequency_easy(data, columns)\n",
    "```"
   ]
  },
  {
   "cell_type": "code",
   "execution_count": 71,
   "metadata": {},
   "outputs": [
    {
     "name": "stdout",
     "output_type": "stream",
     "text": [
      "Value counts for Gender column:\n",
      "Female    204\n",
      "Male      196\n",
      "Name: Gender, dtype: int64\n",
      "-----------\n",
      "Value counts for Age column:\n",
      "35    32\n",
      "37    20\n",
      "26    16\n",
      "41    16\n",
      "42    16\n",
      "39    15\n",
      "40    15\n",
      "48    14\n",
      "47    14\n",
      "27    13\n",
      "38    13\n",
      "28    12\n",
      "36    12\n",
      "46    12\n",
      "31    11\n",
      "30    11\n",
      "49    10\n",
      "29    10\n",
      "33     9\n",
      "32     9\n",
      "24     9\n",
      "59     7\n",
      "19     7\n",
      "45     7\n",
      "20     7\n",
      "60     7\n",
      "34     6\n",
      "23     6\n",
      "52     6\n",
      "25     6\n",
      "58     6\n",
      "53     5\n",
      "57     5\n",
      "22     5\n",
      "18     5\n",
      "21     4\n",
      "50     4\n",
      "54     4\n",
      "55     3\n",
      "56     3\n",
      "51     3\n",
      "43     3\n",
      "44     2\n",
      "Name: Age, dtype: int64\n",
      "-----------\n"
     ]
    }
   ],
   "source": [
    "res=frequency_easy(data=data,columns=[\"Gender\",\"Age\"])\n",
    "for key, sr in res.items():\n",
    "    print(f\"Value counts for {key} column:\")\n",
    "    print(sr)\n",
    "    print(\"-----------\")"
   ]
  },
  {
   "cell_type": "markdown",
   "metadata": {},
   "source": [
    "### Ожидаемый результат:\n",
    "\n",
    "```\n",
    "Value counts for Gender column:\n",
    "Female    204\n",
    "Male      196\n",
    "Name: Gender, dtype: int64\n",
    "-----------\n",
    "Value counts for Age column:\n",
    "35    32\n",
    "37    20\n",
    "41    16\n",
    "42    16\n",
    "26    16\n",
    "39    15\n",
    "40    15\n",
    "47    14\n",
    "48    14\n",
    "38    13\n",
    "27    13\n",
    "28    12\n",
    "46    12\n",
    "36    12\n",
    "31    11\n",
    "30    11\n",
    "29    10\n",
    "49    10\n",
    "32     9\n",
    "33     9\n",
    "24     9\n",
    "20     7\n",
    "19     7\n",
    "60     7\n",
    "59     7\n",
    "45     7\n",
    "25     6\n",
    "34     6\n",
    "58     6\n",
    "52     6\n",
    "23     6\n",
    "57     5\n",
    "22     5\n",
    "18     5\n",
    "53     5\n",
    "21     4\n",
    "50     4\n",
    "54     4\n",
    "55     3\n",
    "43     3\n",
    "56     3\n",
    "51     3\n",
    "44     2\n",
    "Name: Age, dtype: int64\n",
    "-----------\n",
    "```"
   ]
  },
  {
   "cell_type": "markdown",
   "metadata": {},
   "source": [
    "# Прекрасная работа!"
   ]
  }
 ],
 "metadata": {
  "kernelspec": {
   "display_name": "Python 3 (ipykernel)",
   "language": "python",
   "name": "python3"
  },
  "language_info": {
   "codemirror_mode": {
    "name": "ipython",
    "version": 3
   },
   "file_extension": ".py",
   "mimetype": "text/x-python",
   "name": "python",
   "nbconvert_exporter": "python",
   "pygments_lexer": "ipython3",
   "version": "3.7.16"
  }
 },
 "nbformat": 4,
 "nbformat_minor": 2
}
