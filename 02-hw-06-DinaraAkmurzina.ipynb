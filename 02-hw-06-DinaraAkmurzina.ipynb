{
 "cells": [
  {
   "cell_type": "markdown",
   "metadata": {},
   "source": [
    "### NumPy: Введение (Часть 2) [Домашнее задание]\n",
    "\n",
    "> **Пожалуйста, избегайте использования одномерных массивов numpy.ndarray.**\n",
    "> **Пишите код только там, где это показано для записи. Не удаляйте комментарии!**"
   ]
  },
  {
   "cell_type": "markdown",
   "metadata": {},
   "source": [
    "1. Импортируйте пакет NumPy"
   ]
  },
  {
   "cell_type": "code",
   "execution_count": 1,
   "metadata": {},
   "outputs": [
    {
     "name": "stdout",
     "output_type": "stream",
     "text": [
      "1.21.5\n"
     ]
    }
   ],
   "source": [
    "# Начало вашего кода\n",
    "import numpy as np\n",
    "# Конец вашего кода\n",
    "print(np.__version__)"
   ]
  },
  {
   "cell_type": "markdown",
   "metadata": {},
   "source": [
    "### Ожидаемый результат\n",
    "```\n",
    "1.17.4\n",
    "```"
   ]
  },
  {
   "cell_type": "markdown",
   "metadata": {},
   "source": [
    "2. Создайте двумерный numpy.ndarray **numbers**, где первая строка содержит четные числа от 0 до 10, а вторая строка содержит нечетные числа от 0 до 10 (10 не учитывается в обоих случаях)."
   ]
  },
  {
   "cell_type": "code",
   "execution_count": 2,
   "metadata": {},
   "outputs": [
    {
     "name": "stdout",
     "output_type": "stream",
     "text": [
      "[[0 2 4 6 8]\n",
      " [1 3 5 7 9]]\n"
     ]
    }
   ],
   "source": [
    "# Начало вашего кода\n",
    "numbers_list = []\n",
    "data_1 = []\n",
    "data_2 = []\n",
    "for i in range(10):\n",
    "    if i%2 == 0:\n",
    "        data_1.append(i)\n",
    "    else:\n",
    "        data_2.append(i)\n",
    "numbers_list.append(data_1)\n",
    "numbers_list.append(data_2)\n",
    "numbers = np.array(numbers_list)\n",
    "# Конец вашего кода\n",
    "print(numbers)"
   ]
  },
  {
   "cell_type": "markdown",
   "metadata": {},
   "source": [
    "### Ожидаемый результат\n",
    "```\n",
    "[[0 2 4 6 8]\n",
    " [1 3 5 7 9]]\n",
    "```"
   ]
  },
  {
   "cell_type": "markdown",
   "metadata": {},
   "source": [
    "3. Пожалуйста, проверьте все важные атрибуты (упомянутые в видео-лекции) для numpy.ndarray even_np и распечатайте их."
   ]
  },
  {
   "cell_type": "code",
   "execution_count": 3,
   "metadata": {},
   "outputs": [
    {
     "name": "stdout",
     "output_type": "stream",
     "text": [
      "2\n",
      "(2, 5)\n",
      "10\n",
      "int32\n",
      "[[0 1]\n",
      " [2 3]\n",
      " [4 5]\n",
      " [6 7]\n",
      " [8 9]]\n"
     ]
    }
   ],
   "source": [
    "# Начало вашего кода\n",
    "print(numbers.ndim)\n",
    "print(numbers.shape)\n",
    "print(numbers.size)\n",
    "print(numbers.dtype)\n",
    "print(numbers.T)\n",
    "# Конец вашего кода"
   ]
  },
  {
   "cell_type": "markdown",
   "metadata": {},
   "source": [
    "### Ожидаемый результат\n",
    "```\n",
    "2\n",
    "(2, 5)\n",
    "10\n",
    "int64\n",
    "[[0 1]\n",
    " [2 3]\n",
    " [4 5]\n",
    " [6 7]\n",
    " [8 9]]\n",
    "```"
   ]
  },
  {
   "cell_type": "markdown",
   "metadata": {},
   "source": [
    "4. Найдите максимальное, минимальное, среднее, стандартное отклонение, используя методы numpy.ndarray."
   ]
  },
  {
   "cell_type": "code",
   "execution_count": 4,
   "metadata": {},
   "outputs": [
    {
     "name": "stdout",
     "output_type": "stream",
     "text": [
      "9\n",
      "0\n",
      "4.5\n",
      "2.8722813232690143\n"
     ]
    }
   ],
   "source": [
    "# Начало вашего кода\n",
    "overall_max = numbers.max()\n",
    "overall_min = numbers.min()\n",
    "overall_mean = numbers.mean()\n",
    "overall_std = numbers.std()\n",
    "# Конец вашего кода\n",
    "print(overall_max)\n",
    "print(overall_min)\n",
    "print(overall_mean)\n",
    "print(overall_std)"
   ]
  },
  {
   "cell_type": "markdown",
   "metadata": {},
   "source": [
    "### Ожидаемый результат\n",
    "```\n",
    "9\n",
    "0\n",
    "4.5\n",
    "2.8722813232690143\n",
    "```"
   ]
  },
  {
   "cell_type": "markdown",
   "metadata": {},
   "source": [
    "5. Найдите максимальное, минимальное, среднее, стандартное отклонение, используя методы numpy.ndarray для каждого **столбца**."
   ]
  },
  {
   "cell_type": "code",
   "execution_count": 5,
   "metadata": {},
   "outputs": [
    {
     "name": "stdout",
     "output_type": "stream",
     "text": [
      "[1 3 5 7 9]\n",
      "[0 2 4 6 8]\n",
      "[0.5 2.5 4.5 6.5 8.5]\n",
      "[0.5 0.5 0.5 0.5 0.5]\n"
     ]
    }
   ],
   "source": [
    "# Начало вашего кода\n",
    "col_max = numbers.max(axis=0)\n",
    "col_min = numbers.min(axis=0)\n",
    "col_mean = numbers.mean(axis=0)\n",
    "col_std = numbers.std(axis=0)\n",
    "# Конец вашего кода\n",
    "print(col_max)\n",
    "print(col_min)\n",
    "print(col_mean)\n",
    "print(col_std)"
   ]
  },
  {
   "cell_type": "markdown",
   "metadata": {},
   "source": [
    "### Ожидаемый результат\n",
    "```\n",
    "[[1 3 5 7 9]]\n",
    "[[0 2 4 6 8]]\n",
    "[[0.5 2.5 4.5 6.5 8.5]]\n",
    "[[0.5 0.5 0.5 0.5 0.5]]\n",
    "```"
   ]
  },
  {
   "cell_type": "markdown",
   "metadata": {},
   "source": [
    "6. Найдите максимальное, минимальное, среднее, стандартное отклонение, используя методы numpy.ndarray для каждой **строки**."
   ]
  },
  {
   "cell_type": "code",
   "execution_count": 6,
   "metadata": {},
   "outputs": [
    {
     "name": "stdout",
     "output_type": "stream",
     "text": [
      "[[8]\n",
      " [9]]\n",
      "[[0]\n",
      " [1]]\n",
      "[[4.]\n",
      " [5.]]\n",
      "[[2.82842712]\n",
      " [2.82842712]]\n"
     ]
    }
   ],
   "source": [
    "# Начало вашего кода\n",
    "row_max = numbers.max(axis=1, keepdims=True)\n",
    "row_min = numbers.min(axis=1, keepdims=True)\n",
    "row_mean = numbers.mean(axis=1, keepdims=True)\n",
    "row_std = numbers.std(axis=1, keepdims=True)\n",
    "# Конец вашего кода\n",
    "print(row_max)\n",
    "print(row_min)\n",
    "print(row_mean)\n",
    "print(row_std)"
   ]
  },
  {
   "cell_type": "markdown",
   "metadata": {},
   "source": [
    "### Ожидаемый результат\n",
    "```\n",
    "[[8]\n",
    " [9]]\n",
    "[[0]\n",
    " [1]]\n",
    "[[4.]\n",
    " [5.]]\n",
    "[[2.82842712]\n",
    " [2.82842712]]\n",
    "```"
   ]
  },
  {
   "cell_type": "markdown",
   "metadata": {},
   "source": [
    "7. Создайте объект numpy.ndarray из списка list_of_lists, приведенного ниже. Кроме того, рассчитать среднее значение и стандартное отклонение по всем осям."
   ]
  },
  {
   "cell_type": "code",
   "execution_count": 7,
   "metadata": {},
   "outputs": [
    {
     "name": "stdout",
     "output_type": "stream",
     "text": [
      "[[[ 1  2]\n",
      "  [ 3  4]]\n",
      "\n",
      " [[21 22]\n",
      "  [23 24]]]\n"
     ]
    }
   ],
   "source": [
    "list_of_lists = [[[1,2],[3,4]],[[21,22],[23,24]]]\n",
    "# Начало вашего кода\n",
    "thd_nparr = np.array(list_of_lists)\n",
    "# Конец вашего кода\n",
    "print(thd_nparr)"
   ]
  },
  {
   "cell_type": "markdown",
   "metadata": {},
   "source": [
    "### Ожидаемый результат\n",
    "```\n",
    "[[[ 1  2]\n",
    "  [ 3  4]]\n",
    "\n",
    " [[21 22]\n",
    "  [23 24]]]\n",
    "```"
   ]
  },
  {
   "cell_type": "code",
   "execution_count": 8,
   "metadata": {},
   "outputs": [
    {
     "name": "stdout",
     "output_type": "stream",
     "text": [
      "Mean with respect to 0-axis\n",
      "[[11. 12.]\n",
      " [13. 14.]]\n",
      "STD with respect to 0-axis\n",
      "[[10. 10.]\n",
      " [10. 10.]]\n",
      "Mean with respect to 1-axis\n",
      "[[ 2.  3.]\n",
      " [22. 23.]]\n",
      "STD with respect to 1-axis\n",
      "[[10. 10.]\n",
      " [10. 10.]]\n",
      "Mean with respect to 2-axis\n",
      "[[[ 1.5]\n",
      "  [ 3.5]]\n",
      "\n",
      " [[21.5]\n",
      "  [23.5]]]\n",
      "STD with respect to 2-axis\n",
      "[[[0.5]\n",
      "  [0.5]]\n",
      "\n",
      " [[0.5]\n",
      "  [0.5]]]\n"
     ]
    }
   ],
   "source": [
    "# Начало вашего кода\n",
    "col_mean = thd_nparr.mean(axis=0)\n",
    "col_std = thd_nparr.std(axis=0)\n",
    "row_mean = thd_nparr.mean(axis=1)\n",
    "row_std = thd_nparr.std(axis=1)\n",
    "d3_mean = thd_nparr.mean(axis=2, keepdims=True)\n",
    "d3_std = thd_nparr.std(axis=2, keepdims=True)\n",
    "# Конец вашего кода\n",
    "print(f\"Mean with respect to 0-axis\\n{col_mean}\")\n",
    "print(f\"STD with respect to 0-axis\\n{col_std}\")\n",
    "print(f\"Mean with respect to 1-axis\\n{row_mean}\")\n",
    "print(f\"STD with respect to 1-axis\\n{col_std}\")\n",
    "print(f\"Mean with respect to 2-axis\\n{d3_mean}\")\n",
    "print(f\"STD with respect to 2-axis\\n{d3_std}\")"
   ]
  },
  {
   "cell_type": "markdown",
   "metadata": {},
   "source": [
    "### Ожидаемый результат\n",
    "```\n",
    "Mean with respect to 0-axis\n",
    "[[[11. 12.]\n",
    "  [13. 14.]]]\n",
    "STD with respect to 0-axis\n",
    "[[[10. 10.]\n",
    "  [10. 10.]]]\n",
    "\n",
    "\n",
    "Mean with respect to 1-axis\n",
    "[[[ 2.  3.]]\n",
    "\n",
    " [[22. 23.]]]\n",
    "STD with respect to 1-axis\n",
    "[[[1. 1.]]\n",
    "\n",
    " [[1. 1.]]]\n",
    "\n",
    "\n",
    "Mean with respect to 2-axis\n",
    "[[[ 1.5]\n",
    "  [ 3.5]]\n",
    "\n",
    " [[21.5]\n",
    "  [23.5]]]\n",
    "STD with respect to 2-axis\n",
    "[[[0.5]\n",
    "  [0.5]]\n",
    "\n",
    " [[0.5]\n",
    "  [0.5]]]\n",
    "```"
   ]
  },
  {
   "cell_type": "markdown",
   "metadata": {},
   "source": [
    "8. Пожалуйста, предоставьте применение следующих методов numpy.ndarray ниже:"
   ]
  },
  {
   "cell_type": "code",
   "execution_count": 9,
   "metadata": {},
   "outputs": [
    {
     "name": "stdout",
     "output_type": "stream",
     "text": [
      "[[ 1  2]\n",
      " [ 3  4]\n",
      " [21 22]\n",
      " [23 24]]\n"
     ]
    }
   ],
   "source": [
    "# ndarray.reshape()\n",
    "# Начало вашего кода\n",
    "print(thd_nparr.reshape(4,2))\n",
    "# Конец вашего кода"
   ]
  },
  {
   "cell_type": "code",
   "execution_count": 10,
   "metadata": {},
   "outputs": [
    {
     "name": "stdout",
     "output_type": "stream",
     "text": [
      "[ 1  2  3  4 21 22 23 24]\n"
     ]
    }
   ],
   "source": [
    "# ndarray.ravel()\n",
    "# Начало вашего кода\n",
    "print(thd_nparr.ravel())\n",
    "# Конец вашего кода"
   ]
  },
  {
   "cell_type": "code",
   "execution_count": 11,
   "metadata": {},
   "outputs": [
    {
     "name": "stdout",
     "output_type": "stream",
     "text": [
      "[[[1, 2], [3, 4]], [[21, 22], [23, 24]]]\n"
     ]
    }
   ],
   "source": [
    "# ndarray.tolist()\n",
    "# Начало вашего кода\n",
    "print(thd_nparr.tolist())\n",
    "# Конец вашего кода"
   ]
  },
  {
   "cell_type": "code",
   "execution_count": 12,
   "metadata": {},
   "outputs": [],
   "source": [
    "# ndarray.tofile()\n",
    "# Начало вашего кода\n",
    "thd_nparr.tofile(\"file_of_lists\", sep=\", \", format=\"%s\")\n",
    "# Конец вашего кода"
   ]
  },
  {
   "cell_type": "code",
   "execution_count": 13,
   "metadata": {},
   "outputs": [
    {
     "name": "stdout",
     "output_type": "stream",
     "text": [
      "[[-3  4  5  8]\n",
      " [-1  7  8  9]]\n"
     ]
    }
   ],
   "source": [
    "# ndarray.sort()\n",
    "# Начало вашего кода\n",
    "unsorted_list = [[5,4,8,-3], [9,7,8,-1]]\n",
    "unsorted_np = np.array(unsorted_list)\n",
    "unsorted_np.sort()\n",
    "print(unsorted_np)\n",
    "# Конец вашего кода"
   ]
  },
  {
   "cell_type": "code",
   "execution_count": 14,
   "metadata": {},
   "outputs": [
    {
     "name": "stdout",
     "output_type": "stream",
     "text": [
      "[[-3 -1]\n",
      " [ 4  7]\n",
      " [ 5  8]\n",
      " [ 8  9]]\n"
     ]
    }
   ],
   "source": [
    "# ndarray.transpose()\n",
    "# Начало вашего кода\n",
    "print(unsorted_np.transpose())\n",
    "# Конец вашего кода"
   ]
  },
  {
   "cell_type": "code",
   "execution_count": 15,
   "metadata": {},
   "outputs": [
    {
     "name": "stdout",
     "output_type": "stream",
     "text": [
      "[-3  4  5  8 -1  7  8  9]\n"
     ]
    }
   ],
   "source": [
    "# ndarray.flatten()\n",
    "# Начало вашего кода\n",
    "copy_of_unsorted_np = unsorted_np.flatten() \n",
    "print(copy_of_unsorted_np)\n",
    "# Конец вашего кода"
   ]
  },
  {
   "cell_type": "code",
   "execution_count": 16,
   "metadata": {},
   "outputs": [
    {
     "name": "stdout",
     "output_type": "stream",
     "text": [
      "0\n"
     ]
    }
   ],
   "source": [
    "# ndarray.argmin()\n",
    "# Начало вашего кода\n",
    "n = thd_nparr.argmin()\n",
    "print(n)\n",
    "# Конец вашего кода"
   ]
  },
  {
   "cell_type": "code",
   "execution_count": 17,
   "metadata": {},
   "outputs": [
    {
     "name": "stdout",
     "output_type": "stream",
     "text": [
      "[[1 1]\n",
      " [0 0]]\n"
     ]
    }
   ],
   "source": [
    "# ndarray.argmin()\n",
    "# Начало вашего кода\n",
    "list_of_lists = [[[10,9],[5,4]],[[21,22],[23,24]]]\n",
    "\n",
    "print(np.argmin(list_of_lists, axis=1))\n",
    "\n",
    "# Конец вашего кода"
   ]
  },
  {
   "cell_type": "code",
   "execution_count": 18,
   "metadata": {},
   "outputs": [
    {
     "name": "stdout",
     "output_type": "stream",
     "text": [
      "[[0 0]\n",
      " [0 0]]\n"
     ]
    }
   ],
   "source": [
    "print(thd_nparr.argmin(axis=1))"
   ]
  },
  {
   "cell_type": "code",
   "execution_count": 19,
   "metadata": {},
   "outputs": [
    {
     "name": "stdout",
     "output_type": "stream",
     "text": [
      "[[1 1]\n",
      " [0 0]]\n"
     ]
    }
   ],
   "source": [
    "# ndarray.argmax()\n",
    "# Начало вашего кода\n",
    "list_of_lists = [[[10,9],[5,4]],[[21,22],[23,24]]]\n",
    "print(np.argmin(list_of_lists, axis=1))\n",
    "# Конец вашего кода"
   ]
  },
  {
   "cell_type": "code",
   "execution_count": 20,
   "metadata": {},
   "outputs": [
    {
     "name": "stdout",
     "output_type": "stream",
     "text": [
      "[1 1 1 1]\n"
     ]
    }
   ],
   "source": [
    "print(unsorted_np.argmax(axis=0))"
   ]
  },
  {
   "cell_type": "code",
   "execution_count": 21,
   "metadata": {},
   "outputs": [
    {
     "name": "stdout",
     "output_type": "stream",
     "text": [
      "[  1   3   6  10  31  53  76 100]\n"
     ]
    }
   ],
   "source": [
    "# ndarray.cumsum()\n",
    "# Начало вашего кода\n",
    "print(thd_nparr.cumsum())\n",
    "# Конец вашего кода"
   ]
  },
  {
   "cell_type": "code",
   "execution_count": 22,
   "metadata": {},
   "outputs": [
    {
     "name": "stdout",
     "output_type": "stream",
     "text": [
      "[      1       2       6      24     504   11088  255024 6120576]\n"
     ]
    }
   ],
   "source": [
    "# ndarray.cumprod()\n",
    "# Начало вашего кода\n",
    "print(thd_nparr.cumprod())\n",
    "# Конец вашего кода"
   ]
  },
  {
   "cell_type": "code",
   "execution_count": 23,
   "metadata": {},
   "outputs": [
    {
     "name": "stdout",
     "output_type": "stream",
     "text": [
      "[[[ 3  6]\n",
      "  [ 9 12]]\n",
      "\n",
      " [[63 66]\n",
      "  [69 72]]]\n"
     ]
    }
   ],
   "source": [
    "# ndarray.dot()\n",
    "# Начало вашего кода\n",
    "print(thd_nparr.dot(3))\n",
    "# Конец вашего кода"
   ]
  },
  {
   "cell_type": "code",
   "execution_count": 24,
   "metadata": {},
   "outputs": [
    {
     "name": "stdout",
     "output_type": "stream",
     "text": [
      "[[[ 1  2]\n",
      "  [ 3  4]]\n",
      "\n",
      " [[21 22]\n",
      "  [23 24]]]\n"
     ]
    }
   ],
   "source": [
    "# ndarray.squeeze()\n",
    "# Начало вашего кода\n",
    "print(thd_nparr.squeeze())\n",
    "# Конец вашего кода"
   ]
  },
  {
   "cell_type": "code",
   "execution_count": 25,
   "metadata": {},
   "outputs": [
    {
     "name": "stdout",
     "output_type": "stream",
     "text": [
      "[ 1  1  1  1  1  2  2  2  2  2  3  3  3  3  3  4  4  4  4  4 21 21 21 21\n",
      " 21 22 22 22 22 22 23 23 23 23 23 24 24 24 24 24]\n"
     ]
    }
   ],
   "source": [
    "# ndarray.repeat()\n",
    "# Начало вашего кода\n",
    "print(thd_nparr.repeat(5))\n",
    "# Конец вашего кода"
   ]
  },
  {
   "cell_type": "markdown",
   "metadata": {},
   "source": [
    "# Прекрасная работа!"
   ]
  }
 ],
 "metadata": {
  "kernelspec": {
   "display_name": "Python 3 (ipykernel)",
   "language": "python",
   "name": "python3"
  },
  "language_info": {
   "codemirror_mode": {
    "name": "ipython",
    "version": 3
   },
   "file_extension": ".py",
   "mimetype": "text/x-python",
   "name": "python",
   "nbconvert_exporter": "python",
   "pygments_lexer": "ipython3",
   "version": "3.7.16"
  }
 },
 "nbformat": 4,
 "nbformat_minor": 2
}
