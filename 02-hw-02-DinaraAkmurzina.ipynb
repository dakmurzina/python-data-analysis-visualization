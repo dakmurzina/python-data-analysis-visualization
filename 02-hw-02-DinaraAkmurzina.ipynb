{
 "cells": [
  {
   "cell_type": "markdown",
   "metadata": {},
   "source": [
    "### Очистка и подготовка данных [Домашнее задание]"
   ]
  },
  {
   "cell_type": "markdown",
   "metadata": {},
   "source": [
    "Загрузите следующий файл Excel «synthetic_data.csv» и выполните все методы очистки и предварительной обработки, которые вы изучили в лекции. \n",
    "\n",
    "Наконец, сохраните новые «очищенные» данные в новый CSV-файл «cleaned_synthetic_data.csv»"
   ]
  },
  {
   "cell_type": "markdown",
   "metadata": {},
   "source": [
    "Примечание: вы можете использовать функции, классы, модули, пакеты и т. д. для выполнения домашней работы."
   ]
  },
  {
   "cell_type": "code",
   "execution_count": 1,
   "metadata": {},
   "outputs": [],
   "source": [
    "import csv"
   ]
  },
  {
   "cell_type": "code",
   "execution_count": 2,
   "metadata": {},
   "outputs": [],
   "source": [
    "with open('synthetic_data.csv', 'r') as file:\n",
    "    csv_reader = csv.reader(file)\n",
    "    data = list(csv_reader)"
   ]
  },
  {
   "cell_type": "code",
   "execution_count": 3,
   "metadata": {},
   "outputs": [],
   "source": [
    "def clean_gender(gender):\n",
    "    if gender == \"\":\n",
    "        gender = gender.replace(\"\", 'none')\n",
    "    if \"(\" in gender:\n",
    "        gender = gender.replace(\"(\", \"\")\n",
    "    if \")\" in gender:\n",
    "        gender = gender.replace(\")\", \"\")\n",
    "    return gender "
   ]
  },
  {
   "cell_type": "code",
   "execution_count": 4,
   "metadata": {},
   "outputs": [],
   "source": [
    "def clean_nationality(nationality):\n",
    "    if \"[\" in nationality:\n",
    "        nationality = nationality.replace(\"[\", \"\")\n",
    "    if \"]\" in nationality:\n",
    "        nationality = nationality.replace(\"]\", \"\")\n",
    "    return nationality"
   ]
  },
  {
   "cell_type": "code",
   "execution_count": 5,
   "metadata": {},
   "outputs": [],
   "source": [
    "def calculate_average_year(year):\n",
    "    if \"-\" in year:\n",
    "        year_list = year.split(\"-\")\n",
    "        average_year = round((int(year_list[1]) + int(year_list[0])) // len(year_list))\n",
    "        year = average_year\n",
    "    return year"
   ]
  },
  {
   "cell_type": "code",
   "execution_count": 6,
   "metadata": {},
   "outputs": [
    {
     "name": "stdout",
     "output_type": "stream",
     "text": [
      "['1', 'male', 'Kazakhstan', 'Aktobe', 1990]\n",
      "['2', 'female', 'Russia', 'Moscow', 1956]\n",
      "['3', 'male', 'Kazakhstan', 'Astana', 2001]\n",
      "['4', 'female', 'Kazakhstan', 'Nur-Sultan', 2019]\n",
      "['5', 'male', 'Russia', 'Saint Petersburg', 1999]\n",
      "['6', 'female', 'Ukraine', 'Kiev', 1989]\n",
      "['7', 'none', 'Kazakhstan', 'Almaty', 2008]\n",
      "['8', 'male', 'Korea', 'Pusan', 1999]\n",
      "['9', 'female', 'Korea', 'Busan', 1980]\n"
     ]
    }
   ],
   "source": [
    "for line in data[1:]:\n",
    "    line[1] = clean_gender(line[1])\n",
    "    line[2] = clean_nationality(line[2])\n",
    "    line[4] = calculate_average_year(line[4])\n",
    "    line[1] = line[1].lower().strip()\n",
    "    line[2] = line[2].title().strip()\n",
    "    line[3] = line[3].title().strip()\n",
    "    line[4] = int(line[4])\n",
    "    print(line)"
   ]
  },
  {
   "cell_type": "code",
   "execution_count": 7,
   "metadata": {},
   "outputs": [],
   "source": [
    "data[0][4] = \"date of birth\""
   ]
  },
  {
   "cell_type": "code",
   "execution_count": 8,
   "metadata": {},
   "outputs": [
    {
     "name": "stdout",
     "output_type": "stream",
     "text": [
      "['id', 'gender', 'nationality', 'city', 'date of birth']\n",
      "['1', 'male', 'Kazakhstan', 'Aktobe', 1990]\n",
      "['2', 'female', 'Russia', 'Moscow', 1956]\n",
      "['3', 'male', 'Kazakhstan', 'Astana', 2001]\n",
      "['4', 'female', 'Kazakhstan', 'Nur-Sultan', 2019]\n",
      "['5', 'male', 'Russia', 'Saint Petersburg', 1999]\n",
      "['6', 'female', 'Ukraine', 'Kiev', 1989]\n",
      "['7', 'none', 'Kazakhstan', 'Almaty', 2008]\n",
      "['8', 'male', 'Korea', 'Pusan', 1999]\n",
      "['9', 'female', 'Korea', 'Busan', 1980]\n"
     ]
    }
   ],
   "source": [
    "for line in data:\n",
    "    print(line)"
   ]
  },
  {
   "cell_type": "code",
   "execution_count": 9,
   "metadata": {},
   "outputs": [],
   "source": [
    "with open('cleaned_synthetic_data.csv', 'w', newline=\"\") as file:\n",
    "    csvwriter = csv.writer(file)\n",
    "    for line in data:\n",
    "        csvwriter.writerow(line)"
   ]
  }
 ],
 "metadata": {
  "kernelspec": {
   "display_name": "Python 3 (ipykernel)",
   "language": "python",
   "name": "python3"
  },
  "language_info": {
   "codemirror_mode": {
    "name": "ipython",
    "version": 3
   },
   "file_extension": ".py",
   "mimetype": "text/x-python",
   "name": "python",
   "nbconvert_exporter": "python",
   "pygments_lexer": "ipython3",
   "version": "3.9.13"
  }
 },
 "nbformat": 4,
 "nbformat_minor": 2
}
