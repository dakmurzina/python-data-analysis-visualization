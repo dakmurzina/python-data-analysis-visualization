{
 "cells": [
  {
   "cell_type": "markdown",
   "metadata": {},
   "source": [
    "### NumPy: Функции & Модули [Домашнее задание]\n",
    "> **\n",
    "> **Пишите код только там, где это показано для записи. Не удаляйте комментарии!**"
   ]
  },
  {
   "cell_type": "markdown",
   "metadata": {},
   "source": [
    "1. Пожалуйста, протестируйте все функции, упомянутые в видео лекции, и постарайтесь разобраться в них. \n",
    "Некоторые функции содержат аргументы, пожалуйста, поэкспериментируйте с ними."
   ]
  },
  {
   "cell_type": "code",
   "execution_count": 1,
   "metadata": {},
   "outputs": [],
   "source": [
    "import numpy as np"
   ]
  },
  {
   "cell_type": "code",
   "execution_count": 2,
   "metadata": {},
   "outputs": [
    {
     "name": "stdout",
     "output_type": "stream",
     "text": [
      "[[0. 0.]\n",
      " [0. 0.]\n",
      " [0. 0.]]\n"
     ]
    }
   ],
   "source": [
    "# numpy.zeros\n",
    "arr1 = np.zeros((3,2))\n",
    "print(arr1)"
   ]
  },
  {
   "cell_type": "code",
   "execution_count": 3,
   "metadata": {},
   "outputs": [
    {
     "name": "stdout",
     "output_type": "stream",
     "text": [
      "[[1. 1. 1. 1. 1. 1.]\n",
      " [1. 1. 1. 1. 1. 1.]\n",
      " [1. 1. 1. 1. 1. 1.]\n",
      " [1. 1. 1. 1. 1. 1.]\n",
      " [1. 1. 1. 1. 1. 1.]]\n"
     ]
    }
   ],
   "source": [
    "# numpy.ones\n",
    "arr2 = np.ones((5,6))\n",
    "print(arr2)"
   ]
  },
  {
   "cell_type": "code",
   "execution_count": 4,
   "metadata": {},
   "outputs": [
    {
     "name": "stdout",
     "output_type": "stream",
     "text": [
      "[['7' '7' '7' '7']\n",
      " ['7' '7' '7' '7']\n",
      " ['7' '7' '7' '7']]\n"
     ]
    }
   ],
   "source": [
    "# numpy.full\n",
    "arr3 = np.full((3,4), 7, dtype=str)\n",
    "print(arr3)"
   ]
  },
  {
   "cell_type": "code",
   "execution_count": 5,
   "metadata": {},
   "outputs": [
    {
     "name": "stdout",
     "output_type": "stream",
     "text": [
      "[[1. 0. 0.]\n",
      " [0. 1. 0.]\n",
      " [0. 0. 1.]]\n"
     ]
    }
   ],
   "source": [
    "# numpy.eye\n",
    "arr4 = np.eye(3)\n",
    "print(arr4)"
   ]
  },
  {
   "cell_type": "code",
   "execution_count": 6,
   "metadata": {},
   "outputs": [
    {
     "name": "stdout",
     "output_type": "stream",
     "text": [
      "[ 1.  6. 11. 16. 21. 26. 31. 36. 41. 46.]\n"
     ]
    }
   ],
   "source": [
    "# numpy.arange\n",
    "arr5 = np.arange(1,50, 5, dtype=float)\n",
    "print(arr5)"
   ]
  },
  {
   "cell_type": "code",
   "execution_count": 7,
   "metadata": {},
   "outputs": [
    {
     "name": "stdout",
     "output_type": "stream",
     "text": [
      "[0 2 4 6 8]\n",
      "[1 3 5 7 9]\n",
      "[ 1  5  9 13 17]\n"
     ]
    }
   ],
   "source": [
    "# numpy.add\n",
    "arr6 = np.arange(0,10,2)\n",
    "arr7 = np.arange(1,11,2)\n",
    "arr8 = np.add(arr6, arr7)\n",
    "print(arr6)\n",
    "print(arr7)\n",
    "print(arr8)"
   ]
  },
  {
   "cell_type": "code",
   "execution_count": 8,
   "metadata": {},
   "outputs": [
    {
     "name": "stdout",
     "output_type": "stream",
     "text": [
      "[0 2 4 6 8]\n",
      "[1 3 5 7 9]\n",
      "[1 1 1 1 1]\n"
     ]
    }
   ],
   "source": [
    "# numpy.subtract\n",
    "arr9 = np.subtract(arr7,arr6)\n",
    "print(arr6)\n",
    "print(arr7)\n",
    "print(arr9)"
   ]
  },
  {
   "cell_type": "code",
   "execution_count": 9,
   "metadata": {},
   "outputs": [
    {
     "name": "stdout",
     "output_type": "stream",
     "text": [
      "[ 0.          0.90929743 -0.7568025  -0.2794155   0.98935825]\n"
     ]
    }
   ],
   "source": [
    "# numpy.sin\n",
    "arr27 = np.sin(arr6)\n",
    "print(arr27)"
   ]
  },
  {
   "cell_type": "code",
   "execution_count": 10,
   "metadata": {},
   "outputs": [
    {
     "name": "stdout",
     "output_type": "stream",
     "text": [
      "[0 2 4 6 8]\n",
      "[1 3 5 7 9]\n",
      "[ 0  6 20 42 72]\n"
     ]
    }
   ],
   "source": [
    "# numpy.multiply\n",
    "arr10 = np.multiply(arr7, arr6)\n",
    "print(arr6)\n",
    "print(arr7)\n",
    "print(arr10)"
   ]
  },
  {
   "cell_type": "code",
   "execution_count": 11,
   "metadata": {},
   "outputs": [
    {
     "name": "stdout",
     "output_type": "stream",
     "text": [
      "[2.         4.         7.48331477]\n"
     ]
    }
   ],
   "source": [
    "# numpy.sqrt\n",
    "arr11 = np.array([4, 16, 56])\n",
    "arr12 = np.sqrt(arr11)\n",
    "print(arr12)"
   ]
  },
  {
   "cell_type": "code",
   "execution_count": 12,
   "metadata": {},
   "outputs": [
    {
     "name": "stdout",
     "output_type": "stream",
     "text": [
      "[[15]\n",
      " [46]]\n"
     ]
    }
   ],
   "source": [
    "# numpy.dot\n",
    "arr13 = np.array([[1,2,3,4],[5,7,8,4]])\n",
    "arr14 = np.array([[4],[2],[1],[1]])\n",
    "arr15 = np.dot(arr13, arr14)\n",
    "print(arr15)"
   ]
  },
  {
   "cell_type": "code",
   "execution_count": 13,
   "metadata": {},
   "outputs": [
    {
     "name": "stdout",
     "output_type": "stream",
     "text": [
      "20\n"
     ]
    }
   ],
   "source": [
    "# numpy.sum\n",
    "arr16 = np.sum(arr6)\n",
    "print(arr16)"
   ]
  },
  {
   "cell_type": "code",
   "execution_count": 14,
   "metadata": {},
   "outputs": [
    {
     "name": "stdout",
     "output_type": "stream",
     "text": [
      "[[0 0 0 0]\n",
      " [0 0 0 0]]\n"
     ]
    }
   ],
   "source": [
    "# numpy.zeros_like\n",
    "arr17 = np.zeros_like(arr13)\n",
    "print(arr17)"
   ]
  },
  {
   "cell_type": "code",
   "execution_count": 15,
   "metadata": {},
   "outputs": [
    {
     "name": "stdout",
     "output_type": "stream",
     "text": [
      "[[      0       1       0 5570652]\n",
      " [   1304       0     768       0]]\n"
     ]
    }
   ],
   "source": [
    "# numpy.empty_like\n",
    "arr18 = np.empty_like(arr13)\n",
    "print(arr18)"
   ]
  },
  {
   "cell_type": "code",
   "execution_count": 16,
   "metadata": {},
   "outputs": [
    {
     "name": "stdout",
     "output_type": "stream",
     "text": [
      "[[1 2]\n",
      " [3 4]\n",
      " [5 7]\n",
      " [8 4]]\n"
     ]
    }
   ],
   "source": [
    "# numpy.reshape\n",
    "arr19 = arr13.reshape(4, 2)\n",
    "print(arr19)"
   ]
  },
  {
   "cell_type": "code",
   "execution_count": 17,
   "metadata": {},
   "outputs": [
    {
     "name": "stdout",
     "output_type": "stream",
     "text": [
      "[[ True False False False False]\n",
      " [False False  True False  True]]\n"
     ]
    }
   ],
   "source": [
    "# numpy.isnan\n",
    "arr20 = np.array([[np.NaN, 1, 8, 9, 7], [2, 6, np.NaN, 3, np.NaN]])\n",
    "arr21 = np.isnan(arr20)\n",
    "print(arr21)"
   ]
  },
  {
   "cell_type": "markdown",
   "metadata": {},
   "source": [
    "2. Пожалуйста, протестируйте все функции модуля ```numpy.random```, упомянутые в видео лекции, и постарайтесь разобраться в них. \n",
    "Некоторые функции содержат аргументы, пожалуйста, поэкспериментируйте с ними."
   ]
  },
  {
   "cell_type": "code",
   "execution_count": 18,
   "metadata": {},
   "outputs": [],
   "source": [
    "import numpy.random as rd"
   ]
  },
  {
   "cell_type": "code",
   "execution_count": 19,
   "metadata": {},
   "outputs": [
    {
     "name": "stdout",
     "output_type": "stream",
     "text": [
      "[0.63824402 0.15749552 0.10630272 0.47393888 0.17867737]\n"
     ]
    }
   ],
   "source": [
    "# numpy.random.sample\n",
    "arr22 = rd.sample(5)\n",
    "print(arr22)"
   ]
  },
  {
   "cell_type": "code",
   "execution_count": 20,
   "metadata": {},
   "outputs": [
    {
     "name": "stdout",
     "output_type": "stream",
     "text": [
      "[0.72019699 0.20349605 0.3348452  0.07766203 0.10356611 0.2418534\n",
      " 0.38790481]\n"
     ]
    }
   ],
   "source": [
    "# numpy.random.random\n",
    "arr23 = rd.random(7)\n",
    "print(arr23)"
   ]
  },
  {
   "cell_type": "code",
   "execution_count": 21,
   "metadata": {},
   "outputs": [
    {
     "name": "stdout",
     "output_type": "stream",
     "text": [
      "[ 8 17  8 18 14]\n"
     ]
    }
   ],
   "source": [
    "# numpy.random.randint\n",
    "arr24 = rd.randint(7, 20, 5)\n",
    "print(arr24)"
   ]
  },
  {
   "cell_type": "code",
   "execution_count": 22,
   "metadata": {},
   "outputs": [
    {
     "name": "stdout",
     "output_type": "stream",
     "text": [
      "[19 17 16 19 13]\n"
     ]
    },
    {
     "name": "stderr",
     "output_type": "stream",
     "text": [
      "C:\\Users\\Dinara Akmurzina\\.conda\\envs\\py37\\lib\\site-packages\\ipykernel_launcher.py:2: DeprecationWarning: This function is deprecated. Please call randint(7, 20 + 1) instead\n",
      "  \n"
     ]
    }
   ],
   "source": [
    "# numpy.random.random_integers\n",
    "arr25 = rd.random_integers(7, 20, 5)\n",
    "print(arr25)"
   ]
  },
  {
   "cell_type": "code",
   "execution_count": 23,
   "metadata": {},
   "outputs": [
    {
     "name": "stdout",
     "output_type": "stream",
     "text": [
      "[3.70174295 6.1996638  1.14356163 3.87330977 0.36898263 6.034365\n",
      " 2.05627244 1.04884974]\n"
     ]
    }
   ],
   "source": [
    "# numpy.random.uniform\n",
    "arr26 = rd.uniform(0, 10, 8)\n",
    "print(arr26)"
   ]
  },
  {
   "cell_type": "code",
   "execution_count": 24,
   "metadata": {},
   "outputs": [],
   "source": [
    "rd.seed()"
   ]
  },
  {
   "cell_type": "code",
   "execution_count": 25,
   "metadata": {},
   "outputs": [
    {
     "name": "stdout",
     "output_type": "stream",
     "text": [
      "[[1 2]\n",
      " [3 4]\n",
      " [5 7]\n",
      " [8 4]]\n"
     ]
    }
   ],
   "source": [
    "# numpy.random.shuffle\n",
    "print(arr19)\n",
    "rd.shuffle(arr19)"
   ]
  },
  {
   "cell_type": "code",
   "execution_count": 26,
   "metadata": {},
   "outputs": [
    {
     "name": "stdout",
     "output_type": "stream",
     "text": [
      "[[3 4 8 4]\n",
      " [5 7 1 2]]\n",
      "[[5 7 1 2]\n",
      " [3 4 8 4]]\n"
     ]
    }
   ],
   "source": [
    "# numpy.random.permutation\n",
    "print(arr13)\n",
    "print(rd.permutation(arr13))"
   ]
  },
  {
   "cell_type": "code",
   "execution_count": 27,
   "metadata": {},
   "outputs": [
    {
     "name": "stdout",
     "output_type": "stream",
     "text": [
      "[ 4 16 56]\n",
      "[16 16 16  4  4]\n"
     ]
    }
   ],
   "source": [
    "# numpy.random.choice\n",
    "print(arr11)\n",
    "print(rd.choice(arr11, 5))"
   ]
  },
  {
   "cell_type": "markdown",
   "metadata": {},
   "source": [
    "# Прекрасная работа!"
   ]
  }
 ],
 "metadata": {
  "kernelspec": {
   "display_name": "Python 3 (ipykernel)",
   "language": "python",
   "name": "python3"
  },
  "language_info": {
   "codemirror_mode": {
    "name": "ipython",
    "version": 3
   },
   "file_extension": ".py",
   "mimetype": "text/x-python",
   "name": "python",
   "nbconvert_exporter": "python",
   "pygments_lexer": "ipython3",
   "version": "3.7.16"
  }
 },
 "nbformat": 4,
 "nbformat_minor": 2
}
