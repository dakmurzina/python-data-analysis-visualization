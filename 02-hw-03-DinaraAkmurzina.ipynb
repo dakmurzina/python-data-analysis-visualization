{
 "cells": [
  {
   "cell_type": "markdown",
   "metadata": {},
   "source": [
    "### Разбор времени и даты [Домашнее задание]"
   ]
  },
  {
   "cell_type": "markdown",
   "metadata": {},
   "source": [
    "### Задания:\n",
    "\n",
    "1. Загрузите данные из следующего CSV-файла **\"scrubbed.csv\"** (который прикреплен к видео)\n",
    "\n",
    "2. Найдите, какой из столбцов содержит информацию о дате и времени.\n",
    "\n",
    "3. Измените дату и время в столбце на следующее: '10/10/1949 20:30' -> 'October 10 of 1949 at 08:30 PM'\n",
    "\n",
    "4. Сохраните данные с обновленным форматом даты и времени в новый файл в формате csv **\"format_scrubbed.csv\"**\n",
    "\n"
   ]
  },
  {
   "cell_type": "code",
   "execution_count": 1,
   "metadata": {},
   "outputs": [],
   "source": [
    "import csv\n",
    "import datetime as dt"
   ]
  },
  {
   "cell_type": "code",
   "execution_count": 2,
   "metadata": {},
   "outputs": [],
   "source": [
    "with open(\"scrubbed.csv\", \"r\") as file:\n",
    "    csv_reader = csv.reader(file)\n",
    "    data = list(csv_reader)"
   ]
  },
  {
   "cell_type": "code",
   "execution_count": 3,
   "metadata": {},
   "outputs": [],
   "source": [
    "def correct_time(time):\n",
    "    if time == \"24:00\":\n",
    "        time = time.replace(\"24:00\", \"00:00\")\n",
    "    return time"
   ]
  },
  {
   "cell_type": "code",
   "execution_count": 4,
   "metadata": {},
   "outputs": [],
   "source": [
    "def correct_date(date):\n",
    "    list_date = date.split()\n",
    "    list_date[1] = correct_time(list_date[1])\n",
    "    date = \" \".join(list_date)\n",
    "    return date"
   ]
  },
  {
   "cell_type": "code",
   "execution_count": 5,
   "metadata": {},
   "outputs": [],
   "source": [
    "for line in data[1:]:\n",
    "    line[0] = correct_date(line[0])"
   ]
  },
  {
   "cell_type": "code",
   "execution_count": 6,
   "metadata": {},
   "outputs": [],
   "source": [
    "def fortame_datetime(datetime):\n",
    "    new_datetime = dt.datetime.strptime(datetime, '%m/%d/%Y %H:%M')\n",
    "    formated_datetime = new_datetime.strftime(\"%B %d of %Y at %I:%M %p\")\n",
    "    return formated_datetime"
   ]
  },
  {
   "cell_type": "code",
   "execution_count": 7,
   "metadata": {},
   "outputs": [],
   "source": [
    "for line in data[1:]:\n",
    "    line[0] = fortame_datetime(line[0])"
   ]
  },
  {
   "cell_type": "code",
   "execution_count": 8,
   "metadata": {},
   "outputs": [],
   "source": [
    "with open(\"format_scrubbed.csv\", \"w\", newline=\"\") as file:\n",
    "    csvwriter = csv.writer(file)\n",
    "    for line in data:\n",
    "        csvwriter.writerow(line)"
   ]
  }
 ],
 "metadata": {
  "kernelspec": {
   "display_name": "Python 3 (ipykernel)",
   "language": "python",
   "name": "python3"
  },
  "language_info": {
   "codemirror_mode": {
    "name": "ipython",
    "version": 3
   },
   "file_extension": ".py",
   "mimetype": "text/x-python",
   "name": "python",
   "nbconvert_exporter": "python",
   "pygments_lexer": "ipython3",
   "version": "3.9.13"
  }
 },
 "nbformat": 4,
 "nbformat_minor": 2
}
