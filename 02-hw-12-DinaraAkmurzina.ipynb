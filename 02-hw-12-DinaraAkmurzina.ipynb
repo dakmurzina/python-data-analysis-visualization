{
 "cells": [
  {
   "cell_type": "markdown",
   "metadata": {},
   "source": [
    "### pandas: Импорт & Экспорт [Домашнее задание]\n",
    "> **Вы должны импортировать все необходимые пакеты самостоятельно.**\n",
    "\n",
    "> **Пишите код только там, где это показано для записи. Не удаляйте комментарии!**\n",
    " "
   ]
  },
  {
   "cell_type": "markdown",
   "metadata": {},
   "source": [
    "1. Пожалуйста, напишите функцию ```load_data(filename)```, которая будет загружать данные из csv-файла в ```DataFrame```. Файл ```Social_Network_Ads.csv``` предоставлен вместе с этим jupyter notebook.\n",
    "\n",
    "\n",
    "**Примечание:**\n",
    "\n",
    "* В случае, если имя файла задано неверно, функция ```load_data``` должна вывести следующее сообщение об ошибке:\n",
    "\n",
    "```{имя файла} does not exist```"
   ]
  },
  {
   "cell_type": "code",
   "execution_count": 1,
   "metadata": {},
   "outputs": [],
   "source": [
    "#Начало вашего кода\n",
    "import pandas as pd\n",
    "def load_data(filename):\n",
    "    try:\n",
    "        with open(filename) as file:\n",
    "            data = pd.read_csv(file)\n",
    "            header = list(data.columns)\n",
    "        return header, data\n",
    "    except:\n",
    "        print(f'{filename} does not exist')\n",
    "        return None, None\n",
    "        \n",
    "#Конец вашего кода"
   ]
  },
  {
   "cell_type": "code",
   "execution_count": 2,
   "metadata": {},
   "outputs": [
    {
     "name": "stdout",
     "output_type": "stream",
     "text": [
      "./SocialNetworkAds.csv does not exist\n"
     ]
    }
   ],
   "source": [
    "filename = \"./SocialNetworkAds.csv\"\n",
    "header, data = load_data(filename=filename)"
   ]
  },
  {
   "cell_type": "markdown",
   "metadata": {},
   "source": [
    "### Ожидаемый результат:\n",
    "\n",
    "```\n",
    "./SocialNetworkAds.csv does not exist\n",
    "```"
   ]
  },
  {
   "cell_type": "code",
   "execution_count": 3,
   "metadata": {},
   "outputs": [
    {
     "name": "stdout",
     "output_type": "stream",
     "text": [
      "None\n",
      "None\n"
     ]
    }
   ],
   "source": [
    "print(header)\n",
    "print(data)"
   ]
  },
  {
   "cell_type": "markdown",
   "metadata": {},
   "source": [
    "### Ожидаемый результат:\n",
    "\n",
    "```\n",
    "None\n",
    "None\n",
    "```"
   ]
  },
  {
   "cell_type": "code",
   "execution_count": 4,
   "metadata": {},
   "outputs": [],
   "source": [
    "filename = \"./Social_Network_Ads.csv\"\n",
    "header, data = load_data(filename=filename)"
   ]
  },
  {
   "cell_type": "code",
   "execution_count": 5,
   "metadata": {},
   "outputs": [
    {
     "name": "stdout",
     "output_type": "stream",
     "text": [
      "['User ID', 'Gender', 'Age', 'EstimatedSalary', 'Purchased']\n"
     ]
    }
   ],
   "source": [
    "print(header)"
   ]
  },
  {
   "cell_type": "markdown",
   "metadata": {},
   "source": [
    "### Ожидаемый результат:\n",
    "\n",
    "```\n",
    "['User ID', 'Gender', 'Age', 'EstimatedSalary', 'Purchased']\n",
    "```"
   ]
  },
  {
   "cell_type": "markdown",
   "metadata": {},
   "source": [
    "**Распечатайте первые и последние 5 строк pandas.DataFrame:**"
   ]
  },
  {
   "cell_type": "code",
   "execution_count": 6,
   "metadata": {},
   "outputs": [
    {
     "name": "stdout",
     "output_type": "stream",
     "text": [
      "    User ID  Gender  Age  EstimatedSalary  Purchased\n",
      "0  15624510    Male   19            19000          0\n",
      "1  15810944    Male   35            20000          0\n",
      "2  15668575  Female   26            43000          0\n",
      "3  15603246  Female   27            57000          0\n",
      "4  15804002    Male   19            76000          0\n",
      "      User ID  Gender  Age  EstimatedSalary  Purchased\n",
      "395  15691863  Female   46            41000          1\n",
      "396  15706071    Male   51            23000          1\n",
      "397  15654296  Female   50            20000          1\n",
      "398  15755018    Male   36            33000          0\n",
      "399  15594041  Female   49            36000          1\n"
     ]
    }
   ],
   "source": [
    "#Начало вашего кода\n",
    "print(data[:5])\n",
    "print(data[-5:])\n",
    "#Конец вашего кода"
   ]
  },
  {
   "cell_type": "markdown",
   "metadata": {},
   "source": [
    "### Ожидаемый результат:\n",
    "\n",
    "```\n",
    "User ID  Gender  Age  EstimatedSalary  Purchased\n",
    "0  15624510    Male   19            19000          0\n",
    "1  15810944    Male   35            20000          0\n",
    "2  15668575  Female   26            43000          0\n",
    "3  15603246  Female   27            57000          0\n",
    "4  15804002    Male   19            76000          0\n",
    "      User ID  Gender  Age  EstimatedSalary  Purchased\n",
    "395  15691863  Female   46            41000          1\n",
    "396  15706071    Male   51            23000          1\n",
    "397  15654296  Female   50            20000          1\n",
    "398  15755018    Male   36            33000          0\n",
    "399  15594041  Female   49            36000          1\n",
    "```"
   ]
  },
  {
   "cell_type": "markdown",
   "metadata": {},
   "source": [
    "2. Пожалуйста, реализуйте функцию ```export2csv(filename,data,columns)```, которая будет экспортировать целевые столбцы из входного аргумента ```DataFrame``` в файл в формате csv. Входной аргументы:\n",
    "    * ```filename``` должен быть типа string\n",
    "    * ```data``` должен быть типа pandas.DataFrame\n",
    "    * ```columns``` должен быть списком список с именами целевых столбцов\n",
    "\n",
    "Кроме того, \n",
    "* если ```filename``` или/и ```data``` не предоставлены, функция должна вернуть сообщение об ошибке.\n",
    "* если ```columns``` не предоставлен, функция должна экспортировать весь ```data```.\n"
   ]
  },
  {
   "cell_type": "code",
   "execution_count": 7,
   "metadata": {},
   "outputs": [],
   "source": [
    "#Начало вашего кода\n",
    "def export2csv(filename=None, data=None, columns=None):\n",
    "    if (isinstance(filename, str)==True and data is not None and columns!=None and filename[-4:]==\".csv\"):\n",
    "        target_columns=[]\n",
    "        for col in columns:\n",
    "            if col in data.columns:\n",
    "                target_columns.append(col)\n",
    "        if len(target_columns)!=0:\n",
    "            data.to_csv(filename, columns=target_columns)\n",
    "            return f'Done: {filename} with shape: {data.shape[0], len(target_columns)}'\n",
    "        else:\n",
    "            return \"Error: DataFrame to export is empty\"\n",
    "    elif filename!=None and filename[-4:]!=\".csv\":\n",
    "        return f\"Error: {filename} should be of csv-format\"\n",
    "    else:\n",
    "        return \"Error: input arguments are not provided properly export2csv(filename, data, [columns optional])\"\n",
    "#Конец вашего кода"
   ]
  },
  {
   "cell_type": "code",
   "execution_count": 8,
   "metadata": {},
   "outputs": [
    {
     "name": "stdout",
     "output_type": "stream",
     "text": [
      "Error: input arguments are not provided properly export2csv(filename, data, [columns optional])\n",
      "Error: input arguments are not provided properly export2csv(filename, data, [columns optional])\n",
      "Error: input arguments are not provided properly export2csv(filename, data, [columns optional])\n",
      "Error: input arguments are not provided properly export2csv(filename, data, [columns optional])\n",
      "Done: exported1.csv with shape: (400, 2)\n",
      "Done: exported2.csv with shape: (400, 1)\n",
      "Error: DataFrame to export is empty\n",
      "Error: exported4.cs should be of csv-format\n",
      "Error: exported5csv should be of csv-format\n"
     ]
    }
   ],
   "source": [
    "print(export2csv())\n",
    "print(export2csv(filename=\"exported.csv\"))\n",
    "print(export2csv(data=data))\n",
    "print(export2csv(columns=[\"User ID\"]))\n",
    "print(export2csv(filename=\"exported1.csv\", data=data, columns=[\"User ID\", \"EstimatedSalary\"]))\n",
    "print(export2csv(filename=\"exported2.csv\", data=data, columns=[\"UserID\", \"EstimatedSalary\"]))\n",
    "print(export2csv(filename=\"exported3.csv\", data=data, columns=[\"UserID\"]))\n",
    "print(export2csv(filename=\"exported4.cs\", data=data, columns=[\"User ID\", \"EstimatedSalary\"]))\n",
    "print(export2csv(filename=\"exported5csv\", data=data, columns=[\"User ID\", \"EstimatedSalary\"]))"
   ]
  },
  {
   "cell_type": "markdown",
   "metadata": {},
   "source": [
    "### Ожидаемый результат:\n",
    "\n",
    "```\n",
    "Error: input arguments are not provided properly export2csv(filename, data, [columns optional])\n",
    "Error: input arguments are not provided properly export2csv(filename, data, [columns optional])\n",
    "Error: input arguments are not provided properly export2csv(filename, data, [columns optional])\n",
    "Error: input arguments are not provided properly export2csv(filename, data, [columns optional])\n",
    "Done: exported1.csv with shape: (400, 2)\n",
    "Done: exported2.csv with shape: (400, 1)\n",
    "Error: DataFrame to export is empty \n",
    "Error: exported4.cs should be of csv-format\n",
    "Error: exported5csv should be of csv-format\n",
    "```"
   ]
  },
  {
   "cell_type": "markdown",
   "metadata": {},
   "source": [
    "3. Вы должны реализовать функцию ```export_sliced_data(filename, data, rows, cols)```. которая будет срезать целевые строки и столбцы из ```data``` и будет экспортировать в файл в формате xlsx. Входной аргументы:\n",
    "    * ```filename``` должен быть типа string (xlsx-формат)\n",
    "    * ```data``` должен быть типа pandas.DataFrame\n",
    "    * ```rows``` должен быть кортежем с индексами начальных и конечных строк.\n",
    "    * ```cols``` должен быть кортежем с индексами начальных и конечных строк.\n",
    "    \n",
    "    **Во всех остальных случаях функция возвращает сообщение об ошибке.**"
   ]
  },
  {
   "cell_type": "code",
   "execution_count": 9,
   "metadata": {},
   "outputs": [],
   "source": [
    "#Начало вашего кода\n",
    "def export_sliced_data(filename=None, data=None, rows=None, cols=None):\n",
    "    if (isinstance(filename, str)==True and data is not None and rows!=None and cols!=None and filename[-5:]==\".xlsx\"):\n",
    "        if cols[0] in range(len(data.columns)) and cols[1] in range(len(data.columns)):\n",
    "            sliced_data = data.iloc[rows[0]:rows[1],cols[0]:cols[1]]\n",
    "            sliced_data.to_excel(filename)\n",
    "            return f\"Done: {filename} with shape: {sliced_data.shape}\"\n",
    "        else:\n",
    "            return \"Error: DataFrame to export is empty\"\n",
    "    elif filename!=None and filename[-5:]!=\".xlsx\":\n",
    "        return ('Error: exported_sliced2xlsx should be of xlsx-format')\n",
    "    else:\n",
    "        return \"Error: input arguments are not provided properly export_sliced_data(filename, data,rows,cols)\"\n",
    "#Конец вашего кода"
   ]
  },
  {
   "cell_type": "code",
   "execution_count": 10,
   "metadata": {},
   "outputs": [
    {
     "name": "stdout",
     "output_type": "stream",
     "text": [
      "Error: input arguments are not provided properly export_sliced_data(filename, data,rows,cols)\n",
      "Error: input arguments are not provided properly export_sliced_data(filename, data,rows,cols)\n",
      "Error: input arguments are not provided properly export_sliced_data(filename, data,rows,cols)\n",
      "Error: input arguments are not provided properly export_sliced_data(filename, data,rows,cols)\n",
      "Done: exported_sliced1.xlsx with shape: (10, 2)\n",
      "Error: exported_sliced2xlsx should be of xlsx-format\n",
      "Error: DataFrame to export is empty\n"
     ]
    }
   ],
   "source": [
    "print(export_sliced_data())\n",
    "print(export_sliced_data(filename=\"exported_.sliced.xlsx\"))\n",
    "print(export_sliced_data(data=data))\n",
    "print(export_sliced_data(rows=(0,10),cols=(2,4)))\n",
    "print(export_sliced_data(filename=\"exported_sliced1.xlsx\",data=data,rows=(0,10),cols=(2,4)))\n",
    "print(export_sliced_data(filename=\"exported_sliced2xlsx\",data=data,rows=(10,20),cols=(2,4)))\n",
    "print(export_sliced_data(filename=\"exported_sliced3.xlsx\",data=data,rows=(0,20),cols=(5,10)))"
   ]
  },
  {
   "cell_type": "markdown",
   "metadata": {},
   "source": [
    "### Ожидаемый результат:\n",
    "\n",
    "```\n",
    "Error: input arguments are not provided properly export_sliced_data(filename, data,rows,cols)\n",
    "Error: input arguments are not provided properly export_sliced_data(filename, data,rows,cols)\n",
    "Error: input arguments are not provided properly export_sliced_data(filename, data,rows,cols)\n",
    "Error: input arguments are not provided properly export_sliced_data(filename, data,rows,cols)\n",
    "Done: exported_sliced1.xlsx with shape: (10, 2)\n",
    "Error: exported_sliced2xlsx should be of xlsx-format\n",
    "Error: DataFrame to export is empty \n",
    "```"
   ]
  },
  {
   "cell_type": "markdown",
   "metadata": {},
   "source": [
    "# Прекрасная работа!"
   ]
  }
 ],
 "metadata": {
  "kernelspec": {
   "display_name": "Python 3 (ipykernel)",
   "language": "python",
   "name": "python3"
  },
  "language_info": {
   "codemirror_mode": {
    "name": "ipython",
    "version": 3
   },
   "file_extension": ".py",
   "mimetype": "text/x-python",
   "name": "python",
   "nbconvert_exporter": "python",
   "pygments_lexer": "ipython3",
   "version": "3.7.16"
  }
 },
 "nbformat": 4,
 "nbformat_minor": 2
}
